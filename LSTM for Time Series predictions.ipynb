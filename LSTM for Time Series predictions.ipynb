{
 "cells": [
  {
   "cell_type": "code",
   "execution_count": 3,
   "id": "d1b8caf1",
   "metadata": {},
   "outputs": [],
   "source": [
    "import pandas as pd\n",
    "import numpy as np\n",
    "import matplotlib.pyplot as plt\n",
    "%matplotlib inline\n",
    "import warnings\n",
    "warnings.filterwarnings('ignore')\n",
    "import tensorflow as tf\n",
    "from tensorflow.keras.preprocessing.sequence import TimeseriesGenerator\n",
    "from tensorflow.keras.models import Sequential\n",
    "from tensorflow.keras.layers import Dense\n",
    "from tensorflow.keras.layers import LSTM"
   ]
  },
  {
   "cell_type": "code",
   "execution_count": 14,
   "id": "920c057c",
   "metadata": {},
   "outputs": [
    {
     "data": {
      "text/html": [
       "<div>\n",
       "<style scoped>\n",
       "    .dataframe tbody tr th:only-of-type {\n",
       "        vertical-align: middle;\n",
       "    }\n",
       "\n",
       "    .dataframe tbody tr th {\n",
       "        vertical-align: top;\n",
       "    }\n",
       "\n",
       "    .dataframe thead th {\n",
       "        text-align: right;\n",
       "    }\n",
       "</style>\n",
       "<table border=\"1\" class=\"dataframe\">\n",
       "  <thead>\n",
       "    <tr style=\"text-align: right;\">\n",
       "      <th></th>\n",
       "      <th>#Passengers</th>\n",
       "    </tr>\n",
       "    <tr>\n",
       "      <th>Month</th>\n",
       "      <th></th>\n",
       "    </tr>\n",
       "  </thead>\n",
       "  <tbody>\n",
       "    <tr>\n",
       "      <th>1949-01</th>\n",
       "      <td>112</td>\n",
       "    </tr>\n",
       "    <tr>\n",
       "      <th>1949-02</th>\n",
       "      <td>118</td>\n",
       "    </tr>\n",
       "    <tr>\n",
       "      <th>1949-03</th>\n",
       "      <td>132</td>\n",
       "    </tr>\n",
       "    <tr>\n",
       "      <th>1949-04</th>\n",
       "      <td>129</td>\n",
       "    </tr>\n",
       "    <tr>\n",
       "      <th>1949-05</th>\n",
       "      <td>121</td>\n",
       "    </tr>\n",
       "    <tr>\n",
       "      <th>...</th>\n",
       "      <td>...</td>\n",
       "    </tr>\n",
       "    <tr>\n",
       "      <th>1960-08</th>\n",
       "      <td>606</td>\n",
       "    </tr>\n",
       "    <tr>\n",
       "      <th>1960-09</th>\n",
       "      <td>508</td>\n",
       "    </tr>\n",
       "    <tr>\n",
       "      <th>1960-10</th>\n",
       "      <td>461</td>\n",
       "    </tr>\n",
       "    <tr>\n",
       "      <th>1960-11</th>\n",
       "      <td>390</td>\n",
       "    </tr>\n",
       "    <tr>\n",
       "      <th>1960-12</th>\n",
       "      <td>432</td>\n",
       "    </tr>\n",
       "  </tbody>\n",
       "</table>\n",
       "<p>144 rows × 1 columns</p>\n",
       "</div>"
      ],
      "text/plain": [
       "         #Passengers\n",
       "Month               \n",
       "1949-01          112\n",
       "1949-02          118\n",
       "1949-03          132\n",
       "1949-04          129\n",
       "1949-05          121\n",
       "...              ...\n",
       "1960-08          606\n",
       "1960-09          508\n",
       "1960-10          461\n",
       "1960-11          390\n",
       "1960-12          432\n",
       "\n",
       "[144 rows x 1 columns]"
      ]
     },
     "execution_count": 14,
     "metadata": {},
     "output_type": "execute_result"
    }
   ],
   "source": [
    "df=pd.read_csv(r'E:\\Sem 3\\assignments\\DA Lab\\datasets\\AirPassengers.csv',index_col='Month')\n",
    "\n",
    "df"
   ]
  },
  {
   "cell_type": "code",
   "execution_count": 15,
   "id": "de3daf28",
   "metadata": {},
   "outputs": [],
   "source": [
    "from sklearn.preprocessing import MinMaxScaler\n",
    "train=df[:132]\n",
    "test=df[132:]\n",
    "scaler=MinMaxScaler()\n",
    "scaled_train=scaler.fit_transform(train)\n",
    "scaled_test=scaler.transform(test)"
   ]
  },
  {
   "cell_type": "code",
   "execution_count": 16,
   "id": "521e9a55",
   "metadata": {},
   "outputs": [],
   "source": [
    "n_input=12\n",
    "n_features=1"
   ]
  },
  {
   "cell_type": "code",
   "execution_count": 17,
   "id": "46cc076e",
   "metadata": {},
   "outputs": [],
   "source": [
    "train_generator=TimeseriesGenerator(scaled_train,\n",
    "                                     scaled_train,\n",
    "                                      n_input,\n",
    "                                      batch_size=1)"
   ]
  },
  {
   "cell_type": "code",
   "execution_count": 18,
   "id": "9f93d7b9",
   "metadata": {},
   "outputs": [],
   "source": [
    "model=Sequential()\n",
    "model.add(LSTM(100,activation='relu',input_shape=(n_input,n_features),return_sequences=True))\n",
    "model.add(LSTM(50,activation='relu',return_sequences=True))\n",
    "model.add(LSTM(10,activation='relu'))\n",
    "model.add(Dense(1))"
   ]
  },
  {
   "cell_type": "code",
   "execution_count": 19,
   "id": "09dc0f99",
   "metadata": {},
   "outputs": [
    {
     "name": "stdout",
     "output_type": "stream",
     "text": [
      "Model: \"sequential\"\n",
      "_________________________________________________________________\n",
      " Layer (type)                Output Shape              Param #   \n",
      "=================================================================\n",
      " lstm (LSTM)                 (None, 12, 100)           40800     \n",
      "                                                                 \n",
      " lstm_1 (LSTM)               (None, 12, 50)            30200     \n",
      "                                                                 \n",
      " lstm_2 (LSTM)               (None, 10)                2440      \n",
      "                                                                 \n",
      " dense (Dense)               (None, 1)                 11        \n",
      "                                                                 \n",
      "=================================================================\n",
      "Total params: 73,451\n",
      "Trainable params: 73,451\n",
      "Non-trainable params: 0\n",
      "_________________________________________________________________\n"
     ]
    }
   ],
   "source": [
    "model.compile(optimizer='adam',loss='mse')\n",
    "model.summary()"
   ]
  },
  {
   "cell_type": "code",
   "execution_count": 20,
   "id": "b3181dbd",
   "metadata": {},
   "outputs": [
    {
     "name": "stdout",
     "output_type": "stream",
     "text": [
      "Epoch 1/20\n",
      "120/120 [==============================] - 12s 20ms/step - loss: 0.0335\n",
      "Epoch 2/20\n",
      "120/120 [==============================] - 2s 20ms/step - loss: 0.0167\n",
      "Epoch 3/20\n",
      "120/120 [==============================] - 2s 21ms/step - loss: 0.0143\n",
      "Epoch 4/20\n",
      "120/120 [==============================] - 2s 20ms/step - loss: 0.0113\n",
      "Epoch 5/20\n",
      "120/120 [==============================] - 2s 19ms/step - loss: 0.0115\n",
      "Epoch 6/20\n",
      "120/120 [==============================] - 2s 19ms/step - loss: 0.0099\n",
      "Epoch 7/20\n",
      "120/120 [==============================] - 2s 19ms/step - loss: 0.0106\n",
      "Epoch 8/20\n",
      "120/120 [==============================] - 2s 19ms/step - loss: 0.0091\n",
      "Epoch 9/20\n",
      "120/120 [==============================] - 2s 19ms/step - loss: 0.0107\n",
      "Epoch 10/20\n",
      "120/120 [==============================] - 2s 19ms/step - loss: 0.0083\n",
      "Epoch 11/20\n",
      "120/120 [==============================] - 2s 19ms/step - loss: 0.0078\n",
      "Epoch 12/20\n",
      "120/120 [==============================] - 2s 19ms/step - loss: 0.0065\n",
      "Epoch 13/20\n",
      "120/120 [==============================] - 2s 19ms/step - loss: 0.0091\n",
      "Epoch 14/20\n",
      "120/120 [==============================] - 2s 20ms/step - loss: 0.0061\n",
      "Epoch 15/20\n",
      "120/120 [==============================] - 2s 20ms/step - loss: 0.0059\n",
      "Epoch 16/20\n",
      "120/120 [==============================] - 2s 19ms/step - loss: 0.0055\n",
      "Epoch 17/20\n",
      "120/120 [==============================] - 2s 19ms/step - loss: 0.0047\n",
      "Epoch 18/20\n",
      "120/120 [==============================] - 2s 19ms/step - loss: 0.0044\n",
      "Epoch 19/20\n",
      "120/120 [==============================] - 2s 19ms/step - loss: 0.0040\n",
      "Epoch 20/20\n",
      "120/120 [==============================] - 2s 19ms/step - loss: 0.0045\n"
     ]
    },
    {
     "data": {
      "text/plain": [
       "<keras.callbacks.History at 0x23c61935310>"
      ]
     },
     "execution_count": 20,
     "metadata": {},
     "output_type": "execute_result"
    }
   ],
   "source": [
    "model.fit(train_generator,epochs=20)"
   ]
  },
  {
   "cell_type": "code",
   "execution_count": 23,
   "id": "a023e3be",
   "metadata": {},
   "outputs": [
    {
     "name": "stdout",
     "output_type": "stream",
     "text": [
      "1/1 [==============================] - 0s 35ms/step\n",
      "1/1 [==============================] - 0s 37ms/step\n",
      "1/1 [==============================] - 0s 50ms/step\n",
      "1/1 [==============================] - 0s 35ms/step\n",
      "1/1 [==============================] - 0s 36ms/step\n",
      "1/1 [==============================] - 0s 39ms/step\n",
      "1/1 [==============================] - 0s 40ms/step\n",
      "1/1 [==============================] - 0s 36ms/step\n",
      "1/1 [==============================] - 0s 52ms/step\n",
      "1/1 [==============================] - 0s 41ms/step\n",
      "1/1 [==============================] - 0s 33ms/step\n",
      "1/1 [==============================] - 0s 47ms/step\n"
     ]
    }
   ],
   "source": [
    "test_predictions = []\n",
    "#Select last n_input values from the train data\n",
    "first_eval_batch = scaled_train[-n_input:]\n",
    "#reshape the data into LSTM required (#batch,#timesteps,#features)\n",
    "current_batch = first_eval_batch.reshape((1, n_input, n_features))\n",
    "for i in range(len(test)):\n",
    "# get prediction, grab the exact number using the [0]\n",
    "  pred = model.predict(current_batch)[0]\n",
    "# Add this prediction to the list\n",
    "  test_predictions.append(pred)\n",
    "# The most critical part, update the (#batch,#timesteps,#features\n",
    "# using np.append(\n",
    "# current_batch[:        ,1:   ,:] ---------> read this as\n",
    "# current_batch[no_change,1:end,no_change]\n",
    "# (Do note the second part has the timesteps)\n",
    "# [[pred]] need the double brackets as current_batch is a 3D array\n",
    "# axis=1, remember we need to add to the second part i.e. 1st axis\n",
    "  current_batch = np.append(current_batch[:,1:,:],[[pred]],axis=1)"
   ]
  },
  {
   "cell_type": "code",
   "execution_count": 24,
   "id": "50c10668",
   "metadata": {},
   "outputs": [
    {
     "data": {
      "text/plain": [
       "[array([0.63880944], dtype=float32),\n",
       " array([0.67939085], dtype=float32),\n",
       " array([0.74664664], dtype=float32),\n",
       " array([0.7642699], dtype=float32),\n",
       " array([0.8465792], dtype=float32),\n",
       " array([0.9671552], dtype=float32),\n",
       " array([1.0413897], dtype=float32),\n",
       " array([0.964326], dtype=float32),\n",
       " array([0.8053211], dtype=float32),\n",
       " array([0.705884], dtype=float32),\n",
       " array([0.6991794], dtype=float32),\n",
       " array([0.74422014], dtype=float32)]"
      ]
     },
     "execution_count": 24,
     "metadata": {},
     "output_type": "execute_result"
    }
   ],
   "source": [
    "test_predictions"
   ]
  },
  {
   "cell_type": "code",
   "execution_count": 25,
   "id": "937a547f",
   "metadata": {},
   "outputs": [
    {
     "data": {
      "text/plain": [
       "array([[394.65829635],\n",
       "       [413.1228357 ],\n",
       "       [443.72422242],\n",
       "       [451.74279922],\n",
       "       [489.1935333 ],\n",
       "       [544.05562425],\n",
       "       [577.83231521],\n",
       "       [542.76834095],\n",
       "       [470.42109931],\n",
       "       [425.17721081],\n",
       "       [422.12663198],\n",
       "       [442.62016261]])"
      ]
     },
     "execution_count": 25,
     "metadata": {},
     "output_type": "execute_result"
    }
   ],
   "source": [
    "actual_predictions = scaler.inverse_transform(test_predictions)\n",
    "actual_predictions"
   ]
  },
  {
   "cell_type": "code",
   "execution_count": 26,
   "id": "ed090ce3",
   "metadata": {},
   "outputs": [
    {
     "data": {
      "image/png": "[encoded data removed]",
      "text/plain": [
       "<Figure size 864x576 with 1 Axes>"
      ]
     },
     "metadata": {
      "needs_background": "light"
     },
     "output_type": "display_data"
    }
   ],
   "source": [
    "test['Predictions'] = actual_predictions\n",
    "test.plot(figsize=(12,8));"
   ]
  },
  {
   "cell_type": "code",
   "execution_count": null,
   "id": "da6c71eb",
   "metadata": {},
   "outputs": [],
   "source": []
  }
 ],
 "metadata": {
  "kernelspec": {
   "display_name": "Python 3 (ipykernel)",
   "language": "python",
   "name": "python3"
  },
  "language_info": {
   "codemirror_mode": {
    "name": "ipython",
    "version": 3
   },
   "file_extension": ".py",
   "mimetype": "text/x-python",
   "name": "python",
   "nbconvert_exporter": "python",
   "pygments_lexer": "ipython3",
   "version": "3.9.7"
  }
 },
 "nbformat": 4,
 "nbformat_minor": 5
}
